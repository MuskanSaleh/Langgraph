{
 "cells": [
  {
   "cell_type": "code",
   "execution_count": null,
   "id": "656406e1",
   "metadata": {
    "vscode": {
     "languageId": "plaintext"
    }
   },
   "outputs": [],
   "source": [
    "from langgraph.graph import Stategraph"
   ]
  },
  {
   "cell_type": "code",
   "execution_count": null,
   "id": "88204aa3",
   "metadata": {
    "vscode": {
     "languageId": "plaintext"
    }
   },
   "outputs": [],
   "source": []
  }
 ],
 "metadata": {
  "language_info": {
   "name": "python"
  }
 },
 "nbformat": 4,
 "nbformat_minor": 5
}
