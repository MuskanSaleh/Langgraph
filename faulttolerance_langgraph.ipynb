{
  "nbformat": 4,
  "nbformat_minor": 0,
  "metadata": {
    "colab": {
      "provenance": []
    },
    "kernelspec": {
      "name": "python3",
      "display_name": "Python 3"
    },
    "language_info": {
      "name": "python"
    }
  },
  "cells": [
    {
      "cell_type": "code",
      "execution_count": 14,
      "metadata": {
        "colab": {
          "base_uri": "https://localhost:8080/"
        },
        "id": "X3th-PYHZVSp",
        "outputId": "d57b2815-d17f-4599-f2b6-205135349855"
      },
      "outputs": [
        {
          "output_type": "stream",
          "name": "stdout",
          "text": [
            "Requirement already satisfied: langgraph in /usr/local/lib/python3.12/dist-packages (0.6.8)\n",
            "Requirement already satisfied: langchain-core>=0.1 in /usr/local/lib/python3.12/dist-packages (from langgraph) (0.3.76)\n",
            "Requirement already satisfied: langgraph-checkpoint<3.0.0,>=2.1.0 in /usr/local/lib/python3.12/dist-packages (from langgraph) (2.1.1)\n",
            "Requirement already satisfied: langgraph-prebuilt<0.7.0,>=0.6.0 in /usr/local/lib/python3.12/dist-packages (from langgraph) (0.6.4)\n",
            "Requirement already satisfied: langgraph-sdk<0.3.0,>=0.2.2 in /usr/local/lib/python3.12/dist-packages (from langgraph) (0.2.9)\n",
            "Requirement already satisfied: pydantic>=2.7.4 in /usr/local/lib/python3.12/dist-packages (from langgraph) (2.11.9)\n",
            "Requirement already satisfied: xxhash>=3.5.0 in /usr/local/lib/python3.12/dist-packages (from langgraph) (3.5.0)\n",
            "Requirement already satisfied: langsmith>=0.3.45 in /usr/local/lib/python3.12/dist-packages (from langchain-core>=0.1->langgraph) (0.4.28)\n",
            "Requirement already satisfied: tenacity!=8.4.0,<10.0.0,>=8.1.0 in /usr/local/lib/python3.12/dist-packages (from langchain-core>=0.1->langgraph) (8.5.0)\n",
            "Requirement already satisfied: jsonpatch<2.0,>=1.33 in /usr/local/lib/python3.12/dist-packages (from langchain-core>=0.1->langgraph) (1.33)\n",
            "Requirement already satisfied: PyYAML>=5.3 in /usr/local/lib/python3.12/dist-packages (from langchain-core>=0.1->langgraph) (6.0.2)\n",
            "Requirement already satisfied: typing-extensions>=4.7 in /usr/local/lib/python3.12/dist-packages (from langchain-core>=0.1->langgraph) (4.15.0)\n",
            "Requirement already satisfied: packaging>=23.2 in /usr/local/lib/python3.12/dist-packages (from langchain-core>=0.1->langgraph) (25.0)\n",
            "Requirement already satisfied: ormsgpack>=1.10.0 in /usr/local/lib/python3.12/dist-packages (from langgraph-checkpoint<3.0.0,>=2.1.0->langgraph) (1.10.0)\n",
            "Requirement already satisfied: httpx>=0.25.2 in /usr/local/lib/python3.12/dist-packages (from langgraph-sdk<0.3.0,>=0.2.2->langgraph) (0.28.1)\n",
            "Requirement already satisfied: orjson>=3.10.1 in /usr/local/lib/python3.12/dist-packages (from langgraph-sdk<0.3.0,>=0.2.2->langgraph) (3.11.3)\n",
            "Requirement already satisfied: annotated-types>=0.6.0 in /usr/local/lib/python3.12/dist-packages (from pydantic>=2.7.4->langgraph) (0.7.0)\n",
            "Requirement already satisfied: pydantic-core==2.33.2 in /usr/local/lib/python3.12/dist-packages (from pydantic>=2.7.4->langgraph) (2.33.2)\n",
            "Requirement already satisfied: typing-inspection>=0.4.0 in /usr/local/lib/python3.12/dist-packages (from pydantic>=2.7.4->langgraph) (0.4.1)\n",
            "Requirement already satisfied: anyio in /usr/local/lib/python3.12/dist-packages (from httpx>=0.25.2->langgraph-sdk<0.3.0,>=0.2.2->langgraph) (4.10.0)\n",
            "Requirement already satisfied: certifi in /usr/local/lib/python3.12/dist-packages (from httpx>=0.25.2->langgraph-sdk<0.3.0,>=0.2.2->langgraph) (2025.8.3)\n",
            "Requirement already satisfied: httpcore==1.* in /usr/local/lib/python3.12/dist-packages (from httpx>=0.25.2->langgraph-sdk<0.3.0,>=0.2.2->langgraph) (1.0.9)\n",
            "Requirement already satisfied: idna in /usr/local/lib/python3.12/dist-packages (from httpx>=0.25.2->langgraph-sdk<0.3.0,>=0.2.2->langgraph) (3.10)\n",
            "Requirement already satisfied: h11>=0.16 in /usr/local/lib/python3.12/dist-packages (from httpcore==1.*->httpx>=0.25.2->langgraph-sdk<0.3.0,>=0.2.2->langgraph) (0.16.0)\n",
            "Requirement already satisfied: jsonpointer>=1.9 in /usr/local/lib/python3.12/dist-packages (from jsonpatch<2.0,>=1.33->langchain-core>=0.1->langgraph) (3.0.0)\n",
            "Requirement already satisfied: requests-toolbelt>=1.0.0 in /usr/local/lib/python3.12/dist-packages (from langsmith>=0.3.45->langchain-core>=0.1->langgraph) (1.0.0)\n",
            "Requirement already satisfied: requests>=2.0.0 in /usr/local/lib/python3.12/dist-packages (from langsmith>=0.3.45->langchain-core>=0.1->langgraph) (2.32.4)\n",
            "Requirement already satisfied: zstandard>=0.23.0 in /usr/local/lib/python3.12/dist-packages (from langsmith>=0.3.45->langchain-core>=0.1->langgraph) (0.25.0)\n",
            "Requirement already satisfied: charset_normalizer<4,>=2 in /usr/local/lib/python3.12/dist-packages (from requests>=2.0.0->langsmith>=0.3.45->langchain-core>=0.1->langgraph) (3.4.3)\n",
            "Requirement already satisfied: urllib3<3,>=1.21.1 in /usr/local/lib/python3.12/dist-packages (from requests>=2.0.0->langsmith>=0.3.45->langchain-core>=0.1->langgraph) (2.5.0)\n",
            "Requirement already satisfied: sniffio>=1.1 in /usr/local/lib/python3.12/dist-packages (from anyio->httpx>=0.25.2->langgraph-sdk<0.3.0,>=0.2.2->langgraph) (1.3.1)\n"
          ]
        }
      ],
      "source": [
        "!pip install langgraph"
      ]
    },
    {
      "cell_type": "code",
      "source": [
        "from langgraph.graph import StateGraph, START, END\n",
        "from langgraph.checkpoint.memory import InMemorySaver\n",
        "from typing import TypedDict\n",
        "import time"
      ],
      "metadata": {
        "id": "KJY-cdaHZg0N"
      },
      "execution_count": 15,
      "outputs": []
    },
    {
      "cell_type": "code",
      "source": [
        "#define the state\n",
        "class CrashState(TypedDict):\n",
        "  input: str\n",
        "  step1 : str\n",
        "  step2 : str\n",
        "  step3 : str"
      ],
      "metadata": {
        "id": "f1jmO_lGZg15"
      },
      "execution_count": 16,
      "outputs": []
    },
    {
      "cell_type": "code",
      "source": [
        "#Define steps means nodes\n",
        "def step_1(state : CrashState) -> CrashState:\n",
        "  print(\"Step 1 executed\")\n",
        "  return {\"step1\": \"done\",\"input\":state[\"input\"]}\n",
        "\n",
        "def step_2(state : CrashState) -> CrashState:\n",
        "  print(\"step 2 hanging... now manually interrupt from the notebook toolbar (stop button)\")\n",
        "  time.sleep(30)#delay for 30 sec means simulate long running hang\n",
        "  return {\"step2\": \"done\"}\n",
        "\n",
        "def step_3(state : CrashState) -> CrashState:\n",
        "  print(\"step 3 executed \")\n",
        "  return { \"step3\": \"done\" }\n",
        "\n",
        "\n"
      ],
      "metadata": {
        "id": "_Ge015rAZhEo"
      },
      "execution_count": 17,
      "outputs": []
    },
    {
      "cell_type": "code",
      "source": [
        "#build the graph\n",
        "builder = StateGraph(CrashState)\n",
        "\n",
        "#adding nodes\n",
        "builder.add_node(\"step_1\",step_1)\n",
        "builder.add_node(\"step_2\",step_2)\n",
        "builder.add_node(\"step_3\",step_3)\n",
        "\n",
        "#adding edges\n",
        "builder.add_edge(START,\"step_1\")\n",
        "builder.add_edge(\"step_1\",\"step_2\")\n",
        "builder.add_edge(\"step_2\",\"step_3\")\n",
        "builder.add_edge(\"step_3\",END)\n",
        "\n",
        "checkpointer = InMemorySaver()\n",
        "\n",
        "graph = builder.compile(checkpointer=checkpointer)"
      ],
      "metadata": {
        "id": "Wbv9H9ERZhQi"
      },
      "execution_count": 18,
      "outputs": []
    },
    {
      "cell_type": "code",
      "source": [
        "graph"
      ],
      "metadata": {
        "colab": {
          "base_uri": "https://localhost:8080/",
          "height": 449
        },
        "id": "a5PtbI06fNWq",
        "outputId": "46600bbb-65f2-4dac-a09c-1c79a384b611"
      },
      "execution_count": 19,
      "outputs": [
        {
          "output_type": "execute_result",
          "data": {
            "text/plain": [
              "<langgraph.graph.state.CompiledStateGraph object at 0x7912bc4d8620>"
            ],
            "image/png": "[encoded data removed]"
          },
          "metadata": {},
          "execution_count": 19
        }
      ]
    },
    {
      "cell_type": "code",
      "source": [
        "try:\n",
        "  print(\"Running graph: please manually interrupt during step 2...\")\n",
        "  graph.invoke({\"input\":\"start\"}, config ={\"configurable\":{\"thread_id\": 'thread - 1'}})\n",
        "except KeyboardInterrupt:\n",
        "  print(\"Kernel manually interrupted (crash simulated).\")\n",
        "\n",
        "\n"
      ],
      "metadata": {
        "colab": {
          "base_uri": "https://localhost:8080/"
        },
        "id": "cxZ1iTEcfcrH",
        "outputId": "cf7fbf3a-6f25-4e48-e831-fb747868f3c9"
      },
      "execution_count": 20,
      "outputs": [
        {
          "output_type": "stream",
          "name": "stdout",
          "text": [
            "Running graph: please manually interrupt during step 2...\n",
            "Step 1 executed\n",
            "step 2 hanging... now manually interrupt from the notebook toolbar (stop button)\n",
            "Kernel manually interrupted (crash simulated).\n"
          ]
        }
      ]
    },
    {
      "cell_type": "code",
      "source": [
        "graph.get_state({\"configurable\":{\"thread_id\": 'thread - 1'}})"
      ],
      "metadata": {
        "colab": {
          "base_uri": "https://localhost:8080/"
        },
        "id": "sZKT1atfh3hh",
        "outputId": "117568e0-7aa3-4bfa-8728-719f71800cd3"
      },
      "execution_count": 21,
      "outputs": [
        {
          "output_type": "execute_result",
          "data": {
            "text/plain": [
              "StateSnapshot(values={'input': 'start', 'step1': 'done'}, next=('step_2',), config={'configurable': {'thread_id': 'thread - 1', 'checkpoint_ns': '', 'checkpoint_id': '1f09ebdb-d758-6c8b-8001-6dc5294cfc1e'}}, metadata={'source': 'loop', 'step': 1, 'parents': {}}, created_at='2025-10-01T11:57:01.309021+00:00', parent_config={'configurable': {'thread_id': 'thread - 1', 'checkpoint_ns': '', 'checkpoint_id': '1f09ebdb-d755-610e-8000-7af51121f314'}}, tasks=(PregelTask(id='9b820db8-5b18-a435-4da2-1c45ce9e9d49', name='step_2', path=('__pregel_pull', 'step_2'), error=None, interrupts=(), state=None, result=None),), interrupts=())"
            ]
          },
          "metadata": {},
          "execution_count": 21
        }
      ]
    },
    {
      "cell_type": "code",
      "source": [
        "list(graph.get_state_history({\"configurable\":{\"thread_id\": 'thread - 1'}}))"
      ],
      "metadata": {
        "colab": {
          "base_uri": "https://localhost:8080/"
        },
        "id": "cbOEHF-8h3f4",
        "outputId": "007e1009-a938-4248-8e46-5292fbb9a9ab"
      },
      "execution_count": 22,
      "outputs": [
        {
          "output_type": "execute_result",
          "data": {
            "text/plain": [
              "[StateSnapshot(values={'input': 'start', 'step1': 'done'}, next=('step_2',), config={'configurable': {'thread_id': 'thread - 1', 'checkpoint_ns': '', 'checkpoint_id': '1f09ebdb-d758-6c8b-8001-6dc5294cfc1e'}}, metadata={'source': 'loop', 'step': 1, 'parents': {}}, created_at='2025-10-01T11:57:01.309021+00:00', parent_config={'configurable': {'thread_id': 'thread - 1', 'checkpoint_ns': '', 'checkpoint_id': '1f09ebdb-d755-610e-8000-7af51121f314'}}, tasks=(PregelTask(id='9b820db8-5b18-a435-4da2-1c45ce9e9d49', name='step_2', path=('__pregel_pull', 'step_2'), error=None, interrupts=(), state=None, result=None),), interrupts=()),\n",
              " StateSnapshot(values={'input': 'start'}, next=('step_1',), config={'configurable': {'thread_id': 'thread - 1', 'checkpoint_ns': '', 'checkpoint_id': '1f09ebdb-d755-610e-8000-7af51121f314'}}, metadata={'source': 'loop', 'step': 0, 'parents': {}}, created_at='2025-10-01T11:57:01.307498+00:00', parent_config={'configurable': {'thread_id': 'thread - 1', 'checkpoint_ns': '', 'checkpoint_id': '1f09ebdb-d751-6f4b-bfff-7169ab5bed05'}}, tasks=(PregelTask(id='d6fa6d5e-6edb-8577-f260-7d5ef3203a38', name='step_1', path=('__pregel_pull', 'step_1'), error=None, interrupts=(), state=None, result={'step1': 'done', 'input': 'start'}),), interrupts=()),\n",
              " StateSnapshot(values={}, next=('__start__',), config={'configurable': {'thread_id': 'thread - 1', 'checkpoint_ns': '', 'checkpoint_id': '1f09ebdb-d751-6f4b-bfff-7169ab5bed05'}}, metadata={'source': 'input', 'step': -1, 'parents': {}}, created_at='2025-10-01T11:57:01.306222+00:00', parent_config=None, tasks=(PregelTask(id='30783823-ad21-272c-5499-3f9b69d289d4', name='__start__', path=('__pregel_pull', '__start__'), error=None, interrupts=(), state=None, result={'input': 'start'}),), interrupts=())]"
            ]
          },
          "metadata": {},
          "execution_count": 22
        }
      ]
    },
    {
      "cell_type": "code",
      "source": [
        "#Re-run to show fault tolerance resume\n",
        "final_state = graph.invoke(None, config={\"configurable\":{\"thread_id\":\"thread - 1\"}})\n",
        "print(\"\\n final state : \", final_state)"
      ],
      "metadata": {
        "colab": {
          "base_uri": "https://localhost:8080/"
        },
        "id": "fcOuVYw8nqtg",
        "outputId": "adfb6298-041a-4d50-bfde-142030478070"
      },
      "execution_count": 23,
      "outputs": [
        {
          "output_type": "stream",
          "name": "stdout",
          "text": [
            "step 2 hanging... now manually interrupt from the notebook toolbar (stop button)\n",
            "step 3 executed \n",
            "\n",
            " final state :  {'input': 'start', 'step1': 'done', 'step2': 'done', 'step3': 'done'}\n"
          ]
        }
      ]
    },
    {
      "cell_type": "code",
      "source": [
        "graph.get_state({\"configurable\":{\"thread_id\": 'thread - 1'}})"
      ],
      "metadata": {
        "colab": {
          "base_uri": "https://localhost:8080/"
        },
        "id": "CjHEYCqtnqsD",
        "outputId": "d638734b-9a65-48e6-a73d-6806671e8f34"
      },
      "execution_count": 24,
      "outputs": [
        {
          "output_type": "execute_result",
          "data": {
            "text/plain": [
              "StateSnapshot(values={'input': 'start', 'step1': 'done', 'step2': 'done', 'step3': 'done'}, next=(), config={'configurable': {'thread_id': 'thread - 1', 'checkpoint_ns': '', 'checkpoint_id': '1f09ebdd-34c1-6bce-8003-b866dfdd900a'}}, metadata={'source': 'loop', 'step': 3, 'parents': {}}, created_at='2025-10-01T11:57:37.947302+00:00', parent_config={'configurable': {'thread_id': 'thread - 1', 'checkpoint_ns': '', 'checkpoint_id': '1f09ebdd-34bd-646c-8002-4a6e0ba16bfb'}}, tasks=(), interrupts=())"
            ]
          },
          "metadata": {},
          "execution_count": 24
        }
      ]
    },
    {
      "cell_type": "code",
      "source": [
        "list(graph.get_state_history({\"configurable\":{\"thread_id\": 'thread - 1'}}))"
      ],
      "metadata": {
        "colab": {
          "base_uri": "https://localhost:8080/"
        },
        "id": "JYDybSNUhxvf",
        "outputId": "f4a90281-024b-4086-c085-10ba6735e200"
      },
      "execution_count": 25,
      "outputs": [
        {
          "output_type": "execute_result",
          "data": {
            "text/plain": [
              "[StateSnapshot(values={'input': 'start', 'step1': 'done', 'step2': 'done', 'step3': 'done'}, next=(), config={'configurable': {'thread_id': 'thread - 1', 'checkpoint_ns': '', 'checkpoint_id': '1f09ebdd-34c1-6bce-8003-b866dfdd900a'}}, metadata={'source': 'loop', 'step': 3, 'parents': {}}, created_at='2025-10-01T11:57:37.947302+00:00', parent_config={'configurable': {'thread_id': 'thread - 1', 'checkpoint_ns': '', 'checkpoint_id': '1f09ebdd-34bd-646c-8002-4a6e0ba16bfb'}}, tasks=(), interrupts=()),\n",
              " StateSnapshot(values={'input': 'start', 'step1': 'done', 'step2': 'done'}, next=('step_3',), config={'configurable': {'thread_id': 'thread - 1', 'checkpoint_ns': '', 'checkpoint_id': '1f09ebdd-34bd-646c-8002-4a6e0ba16bfb'}}, metadata={'source': 'loop', 'step': 2, 'parents': {}}, created_at='2025-10-01T11:57:37.945472+00:00', parent_config={'configurable': {'thread_id': 'thread - 1', 'checkpoint_ns': '', 'checkpoint_id': '1f09ebdb-d758-6c8b-8001-6dc5294cfc1e'}}, tasks=(PregelTask(id='4b446803-1f4b-3951-4fad-644975cd00cf', name='step_3', path=('__pregel_pull', 'step_3'), error=None, interrupts=(), state=None, result={'step3': 'done'}),), interrupts=()),\n",
              " StateSnapshot(values={'input': 'start', 'step1': 'done'}, next=('step_2',), config={'configurable': {'thread_id': 'thread - 1', 'checkpoint_ns': '', 'checkpoint_id': '1f09ebdb-d758-6c8b-8001-6dc5294cfc1e'}}, metadata={'source': 'loop', 'step': 1, 'parents': {}}, created_at='2025-10-01T11:57:01.309021+00:00', parent_config={'configurable': {'thread_id': 'thread - 1', 'checkpoint_ns': '', 'checkpoint_id': '1f09ebdb-d755-610e-8000-7af51121f314'}}, tasks=(PregelTask(id='9b820db8-5b18-a435-4da2-1c45ce9e9d49', name='step_2', path=('__pregel_pull', 'step_2'), error=None, interrupts=(), state=None, result={'step2': 'done'}),), interrupts=()),\n",
              " StateSnapshot(values={'input': 'start'}, next=('step_1',), config={'configurable': {'thread_id': 'thread - 1', 'checkpoint_ns': '', 'checkpoint_id': '1f09ebdb-d755-610e-8000-7af51121f314'}}, metadata={'source': 'loop', 'step': 0, 'parents': {}}, created_at='2025-10-01T11:57:01.307498+00:00', parent_config={'configurable': {'thread_id': 'thread - 1', 'checkpoint_ns': '', 'checkpoint_id': '1f09ebdb-d751-6f4b-bfff-7169ab5bed05'}}, tasks=(PregelTask(id='d6fa6d5e-6edb-8577-f260-7d5ef3203a38', name='step_1', path=('__pregel_pull', 'step_1'), error=None, interrupts=(), state=None, result={'step1': 'done', 'input': 'start'}),), interrupts=()),\n",
              " StateSnapshot(values={}, next=('__start__',), config={'configurable': {'thread_id': 'thread - 1', 'checkpoint_ns': '', 'checkpoint_id': '1f09ebdb-d751-6f4b-bfff-7169ab5bed05'}}, metadata={'source': 'input', 'step': -1, 'parents': {}}, created_at='2025-10-01T11:57:01.306222+00:00', parent_config=None, tasks=(PregelTask(id='30783823-ad21-272c-5499-3f9b69d289d4', name='__start__', path=('__pregel_pull', '__start__'), error=None, interrupts=(), state=None, result={'input': 'start'}),), interrupts=())]"
            ]
          },
          "metadata": {},
          "execution_count": 25
        }
      ]
    },
    {
      "cell_type": "code",
      "source": [],
      "metadata": {
        "id": "3Kf9EqEQpIEi"
      },
      "execution_count": null,
      "outputs": []
    }
  ]
}